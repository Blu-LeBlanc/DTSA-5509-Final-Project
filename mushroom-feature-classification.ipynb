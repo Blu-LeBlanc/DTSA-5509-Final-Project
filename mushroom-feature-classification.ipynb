{
 "cells": [
  {
   "cell_type": "code",
   "execution_count": 1,
   "id": "de45458a",
   "metadata": {
    "_cell_guid": "b1076dfc-b9ad-4769-8c92-a6c4dae69d19",
    "_uuid": "8f2839f25d086af736a60e9eeb907d3b93b6e0e5",
    "execution": {
     "iopub.execute_input": "2025-03-02T01:52:03.415646Z",
     "iopub.status.busy": "2025-03-02T01:52:03.415206Z",
     "iopub.status.idle": "2025-03-02T01:52:04.491180Z",
     "shell.execute_reply": "2025-03-02T01:52:04.489630Z"
    },
    "papermill": {
     "duration": 1.088361,
     "end_time": "2025-03-02T01:52:04.493553",
     "exception": false,
     "start_time": "2025-03-02T01:52:03.405192",
     "status": "completed"
    },
    "tags": []
   },
   "outputs": [],
   "source": [
    "# This Python 3 environment comes with many helpful analytics libraries installed\n",
    "# It is defined by the kaggle/python Docker image: https://github.com/kaggle/docker-python\n",
    "# For example, here's several helpful packages to load\n",
    "\n",
    "import numpy as np # linear algebra\n",
    "import pandas as pd # data processing, CSV file I/O (e.g. pd.read_csv)\n",
    "\n",
    "# Input data files are available in the read-only \"../input/\" directory\n",
    "# For example, running this (by clicking run or pressing Shift+Enter) will list all files under the input directory\n",
    "\n",
    "import os\n",
    "for dirname, _, filenames in os.walk('/kaggle/input/mushroom-classification/mushrooms.csv'):\n",
    "    for filename in filenames:\n",
    "        print(os.path.join(dirname, filename))\n",
    "\n",
    "# You can write up to 20GB to the current directory (/kaggle/working/) that gets preserved as output when you create a version using \"Save & Run All\" \n",
    "# You can also write temporary files to /kaggle/temp/, but they won't be saved outside of the current session"
   ]
  },
  {
   "cell_type": "markdown",
   "id": "5ac1932d",
   "metadata": {
    "papermill": {
     "duration": 0.007389,
     "end_time": "2025-03-02T01:52:04.509224",
     "exception": false,
     "start_time": "2025-03-02T01:52:04.501835",
     "status": "completed"
    },
    "tags": []
   },
   "source": [
    "# Blu Leblanc\n",
    "# Introduction to Machine Learning: Supervised Learning\n",
    "# Final Project"
   ]
  },
  {
   "cell_type": "markdown",
   "id": "41a7c5fe",
   "metadata": {
    "papermill": {
     "duration": 0.007456,
     "end_time": "2025-03-02T01:52:04.524803",
     "exception": false,
     "start_time": "2025-03-02T01:52:04.517347",
     "status": "completed"
    },
    "tags": []
   },
   "source": [
    "https://github.com/Blu-LeBlanc/DTSA-5509-Final-Project.git"
   ]
  },
  {
   "cell_type": "markdown",
   "id": "656ab9a5",
   "metadata": {
    "papermill": {
     "duration": 0.007315,
     "end_time": "2025-03-02T01:52:04.540012",
     "exception": false,
     "start_time": "2025-03-02T01:52:04.532697",
     "status": "completed"
    },
    "tags": []
   },
   "source": [
    "Mushroom hunting, commonly referred to as \"shrooming\" is a popular activity involving the search for edible mushroom species. However, a significant challenge arises from the fact that while some mushrooms are safe to consume, others are highly toxic and pose serious helth risks. Therefore, accurately classifying mushrooms based on their characteristics is crucial.\n",
    "This project focuses on practicing supervised classification techniques to distinguish between edible and poisonous mushrooms. The objective is to compare various classification models and evaluate their effectiveness. Additionally, the project examines different feature selection techniques to identify the most important characteristics for accurate classification. The findings will provide insights into the most relevant attributes for distinguishing between safe and toxic mushroom species."
   ]
  },
  {
   "cell_type": "markdown",
   "id": "fd74fbf0",
   "metadata": {
    "papermill": {
     "duration": 0.007682,
     "end_time": "2025-03-02T01:52:04.555501",
     "exception": false,
     "start_time": "2025-03-02T01:52:04.547819",
     "status": "completed"
    },
    "tags": []
   },
   "source": [
    "# Dataset"
   ]
  },
  {
   "cell_type": "markdown",
   "id": "c196bc20",
   "metadata": {
    "papermill": {
     "duration": 0.008194,
     "end_time": "2025-03-02T01:52:04.571496",
     "exception": false,
     "start_time": "2025-03-02T01:52:04.563302",
     "status": "completed"
    },
    "tags": []
   },
   "source": [
    "I found a public source dataset on kaggle consisting of descriptions of hypothetical samples of 23 different species of mushrooms. Each mushroom is designated as edible or poisonous, and there are accompanying features for each mushroom. The dataset was original located at the UCI Machine Learning repository. There are 23 columns and 8124 entries.\n",
    "\n",
    "UCI Machine Learning (2017). Mushroom Classification[Data Set]. Kaggle"
   ]
  },
  {
   "cell_type": "markdown",
   "id": "83c1433c",
   "metadata": {
    "papermill": {
     "duration": 0.007771,
     "end_time": "2025-03-02T01:52:04.588221",
     "exception": false,
     "start_time": "2025-03-02T01:52:04.580450",
     "status": "completed"
    },
    "tags": []
   },
   "source": [
    "# Data Loading"
   ]
  },
  {
   "cell_type": "markdown",
   "id": "089084e8",
   "metadata": {
    "papermill": {
     "duration": 0.007518,
     "end_time": "2025-03-02T01:52:04.603648",
     "exception": false,
     "start_time": "2025-03-02T01:52:04.596130",
     "status": "completed"
    },
    "tags": []
   },
   "source": [
    "First let's import the necessary libraries."
   ]
  },
  {
   "cell_type": "code",
   "execution_count": 2,
   "id": "f2ede636",
   "metadata": {
    "execution": {
     "iopub.execute_input": "2025-03-02T01:52:04.622079Z",
     "iopub.status.busy": "2025-03-02T01:52:04.621289Z",
     "iopub.status.idle": "2025-03-02T01:52:07.558141Z",
     "shell.execute_reply": "2025-03-02T01:52:07.556789Z"
    },
    "papermill": {
     "duration": 2.948917,
     "end_time": "2025-03-02T01:52:07.560435",
     "exception": false,
     "start_time": "2025-03-02T01:52:04.611518",
     "status": "completed"
    },
    "tags": []
   },
   "outputs": [],
   "source": [
    "import numpy as np\n",
    "import pandas as pd\n",
    "import matplotlib.pyplot as plt\n",
    "from sklearn.model_selection import train_test_split\n",
    "from sklearn.metrics import mean_squared_error\n",
    "from sklearn.preprocessing import LabelEncoder\n",
    "from sklearn.feature_selection import chi2\n",
    "import seaborn as sns\n",
    "import xgboost as xgb\n",
    "from xgboost import plot_importance"
   ]
  },
  {
   "cell_type": "markdown",
   "id": "c2bbc020",
   "metadata": {
    "papermill": {
     "duration": 0.007637,
     "end_time": "2025-03-02T01:52:07.576500",
     "exception": false,
     "start_time": "2025-03-02T01:52:07.568863",
     "status": "completed"
    },
    "tags": []
   },
   "source": [
    "Let's read in the dataset and gain an understanding of the data."
   ]
  },
  {
   "cell_type": "code",
   "execution_count": 3,
   "id": "29d884a3",
   "metadata": {
    "execution": {
     "iopub.execute_input": "2025-03-02T01:52:07.593974Z",
     "iopub.status.busy": "2025-03-02T01:52:07.593272Z",
     "iopub.status.idle": "2025-03-02T01:52:07.665473Z",
     "shell.execute_reply": "2025-03-02T01:52:07.664156Z"
    },
    "papermill": {
     "duration": 0.083074,
     "end_time": "2025-03-02T01:52:07.667357",
     "exception": false,
     "start_time": "2025-03-02T01:52:07.584283",
     "status": "completed"
    },
    "tags": []
   },
   "outputs": [
    {
     "data": {
      "text/html": [
       "<div>\n",
       "<style scoped>\n",
       "    .dataframe tbody tr th:only-of-type {\n",
       "        vertical-align: middle;\n",
       "    }\n",
       "\n",
       "    .dataframe tbody tr th {\n",
       "        vertical-align: top;\n",
       "    }\n",
       "\n",
       "    .dataframe thead th {\n",
       "        text-align: right;\n",
       "    }\n",
       "</style>\n",
       "<table border=\"1\" class=\"dataframe\">\n",
       "  <thead>\n",
       "    <tr style=\"text-align: right;\">\n",
       "      <th></th>\n",
       "      <th>class</th>\n",
       "      <th>cap-shape</th>\n",
       "      <th>cap-surface</th>\n",
       "      <th>cap-color</th>\n",
       "      <th>bruises</th>\n",
       "      <th>odor</th>\n",
       "      <th>gill-attachment</th>\n",
       "      <th>gill-spacing</th>\n",
       "      <th>gill-size</th>\n",
       "      <th>gill-color</th>\n",
       "      <th>...</th>\n",
       "      <th>stalk-surface-below-ring</th>\n",
       "      <th>stalk-color-above-ring</th>\n",
       "      <th>stalk-color-below-ring</th>\n",
       "      <th>veil-type</th>\n",
       "      <th>veil-color</th>\n",
       "      <th>ring-number</th>\n",
       "      <th>ring-type</th>\n",
       "      <th>spore-print-color</th>\n",
       "      <th>population</th>\n",
       "      <th>habitat</th>\n",
       "    </tr>\n",
       "  </thead>\n",
       "  <tbody>\n",
       "    <tr>\n",
       "      <th>0</th>\n",
       "      <td>p</td>\n",
       "      <td>x</td>\n",
       "      <td>s</td>\n",
       "      <td>n</td>\n",
       "      <td>t</td>\n",
       "      <td>p</td>\n",
       "      <td>f</td>\n",
       "      <td>c</td>\n",
       "      <td>n</td>\n",
       "      <td>k</td>\n",
       "      <td>...</td>\n",
       "      <td>s</td>\n",
       "      <td>w</td>\n",
       "      <td>w</td>\n",
       "      <td>p</td>\n",
       "      <td>w</td>\n",
       "      <td>o</td>\n",
       "      <td>p</td>\n",
       "      <td>k</td>\n",
       "      <td>s</td>\n",
       "      <td>u</td>\n",
       "    </tr>\n",
       "    <tr>\n",
       "      <th>1</th>\n",
       "      <td>e</td>\n",
       "      <td>x</td>\n",
       "      <td>s</td>\n",
       "      <td>y</td>\n",
       "      <td>t</td>\n",
       "      <td>a</td>\n",
       "      <td>f</td>\n",
       "      <td>c</td>\n",
       "      <td>b</td>\n",
       "      <td>k</td>\n",
       "      <td>...</td>\n",
       "      <td>s</td>\n",
       "      <td>w</td>\n",
       "      <td>w</td>\n",
       "      <td>p</td>\n",
       "      <td>w</td>\n",
       "      <td>o</td>\n",
       "      <td>p</td>\n",
       "      <td>n</td>\n",
       "      <td>n</td>\n",
       "      <td>g</td>\n",
       "    </tr>\n",
       "    <tr>\n",
       "      <th>2</th>\n",
       "      <td>e</td>\n",
       "      <td>b</td>\n",
       "      <td>s</td>\n",
       "      <td>w</td>\n",
       "      <td>t</td>\n",
       "      <td>l</td>\n",
       "      <td>f</td>\n",
       "      <td>c</td>\n",
       "      <td>b</td>\n",
       "      <td>n</td>\n",
       "      <td>...</td>\n",
       "      <td>s</td>\n",
       "      <td>w</td>\n",
       "      <td>w</td>\n",
       "      <td>p</td>\n",
       "      <td>w</td>\n",
       "      <td>o</td>\n",
       "      <td>p</td>\n",
       "      <td>n</td>\n",
       "      <td>n</td>\n",
       "      <td>m</td>\n",
       "    </tr>\n",
       "    <tr>\n",
       "      <th>3</th>\n",
       "      <td>p</td>\n",
       "      <td>x</td>\n",
       "      <td>y</td>\n",
       "      <td>w</td>\n",
       "      <td>t</td>\n",
       "      <td>p</td>\n",
       "      <td>f</td>\n",
       "      <td>c</td>\n",
       "      <td>n</td>\n",
       "      <td>n</td>\n",
       "      <td>...</td>\n",
       "      <td>s</td>\n",
       "      <td>w</td>\n",
       "      <td>w</td>\n",
       "      <td>p</td>\n",
       "      <td>w</td>\n",
       "      <td>o</td>\n",
       "      <td>p</td>\n",
       "      <td>k</td>\n",
       "      <td>s</td>\n",
       "      <td>u</td>\n",
       "    </tr>\n",
       "    <tr>\n",
       "      <th>4</th>\n",
       "      <td>e</td>\n",
       "      <td>x</td>\n",
       "      <td>s</td>\n",
       "      <td>g</td>\n",
       "      <td>f</td>\n",
       "      <td>n</td>\n",
       "      <td>f</td>\n",
       "      <td>w</td>\n",
       "      <td>b</td>\n",
       "      <td>k</td>\n",
       "      <td>...</td>\n",
       "      <td>s</td>\n",
       "      <td>w</td>\n",
       "      <td>w</td>\n",
       "      <td>p</td>\n",
       "      <td>w</td>\n",
       "      <td>o</td>\n",
       "      <td>e</td>\n",
       "      <td>n</td>\n",
       "      <td>a</td>\n",
       "      <td>g</td>\n",
       "    </tr>\n",
       "  </tbody>\n",
       "</table>\n",
       "<p>5 rows × 23 columns</p>\n",
       "</div>"
      ],
      "text/plain": [
       "  class cap-shape cap-surface cap-color bruises odor gill-attachment  \\\n",
       "0     p         x           s         n       t    p               f   \n",
       "1     e         x           s         y       t    a               f   \n",
       "2     e         b           s         w       t    l               f   \n",
       "3     p         x           y         w       t    p               f   \n",
       "4     e         x           s         g       f    n               f   \n",
       "\n",
       "  gill-spacing gill-size gill-color  ... stalk-surface-below-ring  \\\n",
       "0            c         n          k  ...                        s   \n",
       "1            c         b          k  ...                        s   \n",
       "2            c         b          n  ...                        s   \n",
       "3            c         n          n  ...                        s   \n",
       "4            w         b          k  ...                        s   \n",
       "\n",
       "  stalk-color-above-ring stalk-color-below-ring veil-type veil-color  \\\n",
       "0                      w                      w         p          w   \n",
       "1                      w                      w         p          w   \n",
       "2                      w                      w         p          w   \n",
       "3                      w                      w         p          w   \n",
       "4                      w                      w         p          w   \n",
       "\n",
       "  ring-number ring-type spore-print-color population habitat  \n",
       "0           o         p                 k          s       u  \n",
       "1           o         p                 n          n       g  \n",
       "2           o         p                 n          n       m  \n",
       "3           o         p                 k          s       u  \n",
       "4           o         e                 n          a       g  \n",
       "\n",
       "[5 rows x 23 columns]"
      ]
     },
     "execution_count": 3,
     "metadata": {},
     "output_type": "execute_result"
    }
   ],
   "source": [
    "df = pd.read_csv('/kaggle/input/mushroom-classification/mushrooms.csv')\n",
    "df.head()"
   ]
  },
  {
   "cell_type": "code",
   "execution_count": 4,
   "id": "0d590480",
   "metadata": {
    "execution": {
     "iopub.execute_input": "2025-03-02T01:52:07.686296Z",
     "iopub.status.busy": "2025-03-02T01:52:07.685871Z",
     "iopub.status.idle": "2025-03-02T01:52:07.730339Z",
     "shell.execute_reply": "2025-03-02T01:52:07.728743Z"
    },
    "papermill": {
     "duration": 0.056659,
     "end_time": "2025-03-02T01:52:07.732675",
     "exception": false,
     "start_time": "2025-03-02T01:52:07.676016",
     "status": "completed"
    },
    "tags": []
   },
   "outputs": [
    {
     "name": "stdout",
     "output_type": "stream",
     "text": [
      "<class 'pandas.core.frame.DataFrame'>\n",
      "RangeIndex: 8124 entries, 0 to 8123\n",
      "Data columns (total 23 columns):\n",
      " #   Column                    Non-Null Count  Dtype \n",
      "---  ------                    --------------  ----- \n",
      " 0   class                     8124 non-null   object\n",
      " 1   cap-shape                 8124 non-null   object\n",
      " 2   cap-surface               8124 non-null   object\n",
      " 3   cap-color                 8124 non-null   object\n",
      " 4   bruises                   8124 non-null   object\n",
      " 5   odor                      8124 non-null   object\n",
      " 6   gill-attachment           8124 non-null   object\n",
      " 7   gill-spacing              8124 non-null   object\n",
      " 8   gill-size                 8124 non-null   object\n",
      " 9   gill-color                8124 non-null   object\n",
      " 10  stalk-shape               8124 non-null   object\n",
      " 11  stalk-root                8124 non-null   object\n",
      " 12  stalk-surface-above-ring  8124 non-null   object\n",
      " 13  stalk-surface-below-ring  8124 non-null   object\n",
      " 14  stalk-color-above-ring    8124 non-null   object\n",
      " 15  stalk-color-below-ring    8124 non-null   object\n",
      " 16  veil-type                 8124 non-null   object\n",
      " 17  veil-color                8124 non-null   object\n",
      " 18  ring-number               8124 non-null   object\n",
      " 19  ring-type                 8124 non-null   object\n",
      " 20  spore-print-color         8124 non-null   object\n",
      " 21  population                8124 non-null   object\n",
      " 22  habitat                   8124 non-null   object\n",
      "dtypes: object(23)\n",
      "memory usage: 1.4+ MB\n"
     ]
    }
   ],
   "source": [
    "df.info()"
   ]
  },
  {
   "cell_type": "markdown",
   "id": "5711b79f",
   "metadata": {
    "papermill": {
     "duration": 0.013215,
     "end_time": "2025-03-02T01:52:07.758072",
     "exception": false,
     "start_time": "2025-03-02T01:52:07.744857",
     "status": "completed"
    },
    "tags": []
   },
   "source": [
    "The class column designates if the mushroom is edible (e) or poisonous (p). The other 22 columns are categorical variables that describe characteristics of mushrooms. The datacard explains the abbrebviations for each column. Below is the attribute information copied from the datacard: "
   ]
  },
  {
   "cell_type": "markdown",
   "id": "53d2d4a9",
   "metadata": {
    "papermill": {
     "duration": 0.008987,
     "end_time": "2025-03-02T01:52:07.777145",
     "exception": false,
     "start_time": "2025-03-02T01:52:07.768158",
     "status": "completed"
    },
    "tags": []
   },
   "source": [
    "Attribute Information: (classes: edible=e, poisonous=p)\n",
    "\n",
    "cap-shape: bell=b,conical=c,convex=x,flat=f, knobbed=k,sunken=s\n",
    "\n",
    "cap-surface: fibrous=f,grooves=g,scaly=y,smooth=s\n",
    "\n",
    "cap-color: brown=n,buff=b,cinnamon=c,gray=g,green=r,pink=p,purple=u,red=e,white=w,yellow=y\n",
    "\n",
    "bruises: bruises=t,no=f\n",
    "\n",
    "odor: almond=a,anise=l,creosote=c,fishy=y,foul=f,musty=m,none=n,pungent=p,spicy=s\n",
    "\n",
    "gill-attachment: attached=a,descending=d,free=f,notched=n\n",
    "\n",
    "gill-spacing: close=c,crowded=w,distant=d\n",
    "\n",
    "gill-size: broad=b,narrow=n\n",
    "\n",
    "gill-color: black=k,brown=n,buff=b,chocolate=h,gray=g, green=r,orange=o,pink=p,purple=u,red=e,white=w,yellow=y\n",
    "\n",
    "stalk-shape: enlarging=e,tapering=t\n",
    "\n",
    "stalk-root: bulbous=b,club=c,cup=u,equal=e,rhizomorphs=z,rooted=r,missing=?\n",
    "\n",
    "stalk-surface-above-ring: fibrous=f,scaly=y,silky=k,smooth=s\n",
    "\n",
    "stalk-surface-below-ring: fibrous=f,scaly=y,silky=k,smooth=s\n",
    "\n",
    "stalk-color-above-ring: brown=n,buff=b,cinnamon=c,gray=g,orange=o,pink=p,red=e,white=w,yellow=y\n",
    "\n",
    "stalk-color-below-ring: brown=n,buff=b,cinnamon=c,gray=g,orange=o,pink=p,red=e,white=w,yellow=y\n",
    "\n",
    "veil-type: partial=p,universal=u\n",
    "\n",
    "veil-color: brown=n,orange=o,white=w,yellow=y\n",
    "\n",
    "ring-number: none=n,one=o,two=t\n",
    "\n",
    "ring-type: cobwebby=c,evanescent=e,flaring=f,large=l,none=n,pendant=p,sheathing=s,zone=z\n",
    "\n",
    "spore-print-color: black=k,brown=n,buff=b,chocolate=h,green=r,orange=o,purple=u,white=w,yellow=y\n",
    "\n",
    "population: abundant=a,clustered=c,numerous=n,scattered=s,several=v,solitary=y\n",
    "\n",
    "habitat: grasses=g,leaves=l,meadows=m,paths=p,urban=u,waste=w,woods=d"
   ]
  },
  {
   "cell_type": "markdown",
   "id": "a92877c9",
   "metadata": {
    "papermill": {
     "duration": 0.007844,
     "end_time": "2025-03-02T01:52:07.797800",
     "exception": false,
     "start_time": "2025-03-02T01:52:07.789956",
     "status": "completed"
    },
    "tags": []
   },
   "source": [
    "# Explorative Data Analysis"
   ]
  },
  {
   "cell_type": "markdown",
   "id": "15f50a13",
   "metadata": {
    "papermill": {
     "duration": 0.008974,
     "end_time": "2025-03-02T01:52:07.814822",
     "exception": false,
     "start_time": "2025-03-02T01:52:07.805848",
     "status": "completed"
    },
    "tags": []
   },
   "source": [
    "First I will look at the distribution of our target variable (class) to determine if it is fit for modeling."
   ]
  },
  {
   "cell_type": "code",
   "execution_count": 5,
   "id": "daedf42a",
   "metadata": {
    "execution": {
     "iopub.execute_input": "2025-03-02T01:52:07.832168Z",
     "iopub.status.busy": "2025-03-02T01:52:07.831806Z",
     "iopub.status.idle": "2025-03-02T01:52:08.163235Z",
     "shell.execute_reply": "2025-03-02T01:52:08.161818Z"
    },
    "papermill": {
     "duration": 0.342871,
     "end_time": "2025-03-02T01:52:08.165642",
     "exception": false,
     "start_time": "2025-03-02T01:52:07.822771",
     "status": "completed"
    },
    "tags": []
   },
   "outputs": [
    {
     "data": {
      "image/png": "[encoded data removed]",
      "text/plain": [
       "<Figure size 600x400 with 1 Axes>"
      ]
     },
     "metadata": {},
     "output_type": "display_data"
    },
    {
     "name": "stdout",
     "output_type": "stream",
     "text": [
      "Class Distribution\n",
      "class\n",
      "e    51.797144\n",
      "p    48.202856\n",
      "Name: proportion, dtype: float64\n"
     ]
    }
   ],
   "source": [
    "#distribution of the target variable\n",
    "\n",
    "plt.figure(figsize = (6, 4))\n",
    "sns.countplot(x = df[\"class\"], palette = [\"green\", \"red\"])\n",
    "plt.title(\"Edible vs Poisonous Mushrooms\")\n",
    "plt.xlabel(\"e: Edible, p: Poisonous\")\n",
    "plt.ylabel(\"Count\")\n",
    "plt.show()\n",
    "\n",
    "class_count = df[\"class\"].value_counts(normalize = True) * 100\n",
    "print(\"Class Distribution\")\n",
    "print(class_count)\n"
   ]
  },
  {
   "cell_type": "markdown",
   "id": "42c8bd32",
   "metadata": {
    "papermill": {
     "duration": 0.008755,
     "end_time": "2025-03-02T01:52:08.183836",
     "exception": false,
     "start_time": "2025-03-02T01:52:08.175081",
     "status": "completed"
    },
    "tags": []
   },
   "source": [
    "The dataset is fairly balanced with good amount of edible and poisonous mushrooms. I need to check the dataset and make sure there are no missing values."
   ]
  },
  {
   "cell_type": "code",
   "execution_count": 6,
   "id": "fa88cffb",
   "metadata": {
    "execution": {
     "iopub.execute_input": "2025-03-02T01:52:08.203548Z",
     "iopub.status.busy": "2025-03-02T01:52:08.203137Z",
     "iopub.status.idle": "2025-03-02T01:52:08.220504Z",
     "shell.execute_reply": "2025-03-02T01:52:08.218944Z"
    },
    "papermill": {
     "duration": 0.029399,
     "end_time": "2025-03-02T01:52:08.222484",
     "exception": false,
     "start_time": "2025-03-02T01:52:08.193085",
     "status": "completed"
    },
    "tags": []
   },
   "outputs": [
    {
     "name": "stdout",
     "output_type": "stream",
     "text": [
      "Series([], dtype: int64)\n"
     ]
    }
   ],
   "source": [
    "missing_values = df.isnull().sum()\n",
    "print(missing_values[missing_values > 0])"
   ]
  },
  {
   "cell_type": "markdown",
   "id": "0a911c80",
   "metadata": {
    "papermill": {
     "duration": 0.009052,
     "end_time": "2025-03-02T01:52:08.240914",
     "exception": false,
     "start_time": "2025-03-02T01:52:08.231862",
     "status": "completed"
    },
    "tags": []
   },
   "source": [
    "There are no missing values, however the data card states that there are certain columns with \"?\" for missing values. I will find these instances and remove the column if there are too many missing values."
   ]
  },
  {
   "cell_type": "code",
   "execution_count": 7,
   "id": "dbbf7bc5",
   "metadata": {
    "execution": {
     "iopub.execute_input": "2025-03-02T01:52:08.260730Z",
     "iopub.status.busy": "2025-03-02T01:52:08.260273Z",
     "iopub.status.idle": "2025-03-02T01:52:08.283597Z",
     "shell.execute_reply": "2025-03-02T01:52:08.282096Z"
    },
    "papermill": {
     "duration": 0.035593,
     "end_time": "2025-03-02T01:52:08.285856",
     "exception": false,
     "start_time": "2025-03-02T01:52:08.250263",
     "status": "completed"
    },
    "tags": []
   },
   "outputs": [
    {
     "name": "stdout",
     "output_type": "stream",
     "text": [
      "stalk-root    2480\n",
      "dtype: int64\n"
     ]
    }
   ],
   "source": [
    "question_mark_columns = (df == \"?\").sum()\n",
    "print(question_mark_columns[question_mark_columns > 0])"
   ]
  },
  {
   "cell_type": "markdown",
   "id": "eb2ed570",
   "metadata": {
    "papermill": {
     "duration": 0.00845,
     "end_time": "2025-03-02T01:52:08.303346",
     "exception": false,
     "start_time": "2025-03-02T01:52:08.294896",
     "status": "completed"
    },
    "tags": []
   },
   "source": [
    "The stalk-root column has a large amount of question marks. I will remove this feature. Additionally viewing the dataset: I found that veil-type has one value so I will drop it. There are some features with 2 unique values and some with many unique values."
   ]
  },
  {
   "cell_type": "code",
   "execution_count": 8,
   "id": "2642bfd5",
   "metadata": {
    "execution": {
     "iopub.execute_input": "2025-03-02T01:52:08.322145Z",
     "iopub.status.busy": "2025-03-02T01:52:08.321762Z",
     "iopub.status.idle": "2025-03-02T01:52:08.348511Z",
     "shell.execute_reply": "2025-03-02T01:52:08.346781Z"
    },
    "papermill": {
     "duration": 0.03842,
     "end_time": "2025-03-02T01:52:08.350494",
     "exception": false,
     "start_time": "2025-03-02T01:52:08.312074",
     "status": "completed"
    },
    "tags": []
   },
   "outputs": [
    {
     "name": "stdout",
     "output_type": "stream",
     "text": [
      "<class 'pandas.core.frame.DataFrame'>\n",
      "RangeIndex: 8124 entries, 0 to 8123\n",
      "Data columns (total 21 columns):\n",
      " #   Column                    Non-Null Count  Dtype \n",
      "---  ------                    --------------  ----- \n",
      " 0   class                     8124 non-null   object\n",
      " 1   cap-shape                 8124 non-null   object\n",
      " 2   cap-surface               8124 non-null   object\n",
      " 3   cap-color                 8124 non-null   object\n",
      " 4   bruises                   8124 non-null   object\n",
      " 5   odor                      8124 non-null   object\n",
      " 6   gill-attachment           8124 non-null   object\n",
      " 7   gill-spacing              8124 non-null   object\n",
      " 8   gill-size                 8124 non-null   object\n",
      " 9   gill-color                8124 non-null   object\n",
      " 10  stalk-shape               8124 non-null   object\n",
      " 11  stalk-surface-above-ring  8124 non-null   object\n",
      " 12  stalk-surface-below-ring  8124 non-null   object\n",
      " 13  stalk-color-above-ring    8124 non-null   object\n",
      " 14  stalk-color-below-ring    8124 non-null   object\n",
      " 15  veil-color                8124 non-null   object\n",
      " 16  ring-number               8124 non-null   object\n",
      " 17  ring-type                 8124 non-null   object\n",
      " 18  spore-print-color         8124 non-null   object\n",
      " 19  population                8124 non-null   object\n",
      " 20  habitat                   8124 non-null   object\n",
      "dtypes: object(21)\n",
      "memory usage: 1.3+ MB\n"
     ]
    }
   ],
   "source": [
    "df = df.drop('veil-type', axis = 1)\n",
    "df = df.drop('stalk-root', axis = 1)\n",
    "df.info()"
   ]
  },
  {
   "cell_type": "markdown",
   "id": "5da727f1",
   "metadata": {
    "papermill": {
     "duration": 0.009036,
     "end_time": "2025-03-02T01:52:08.369164",
     "exception": false,
     "start_time": "2025-03-02T01:52:08.360128",
     "status": "completed"
    },
    "tags": []
   },
   "source": [
    "# Correlation Analysis"
   ]
  },
  {
   "cell_type": "markdown",
   "id": "1ab22ddb",
   "metadata": {
    "papermill": {
     "duration": 0.00878,
     "end_time": "2025-03-02T01:52:08.387280",
     "exception": false,
     "start_time": "2025-03-02T01:52:08.378500",
     "status": "completed"
    },
    "tags": []
   },
   "source": [
    "One technique for determing which features are most important is Chi-Square testing. I will use a Chi-Square Test to measure statistical dependence between categorical variables and the target class"
   ]
  },
  {
   "cell_type": "code",
   "execution_count": 9,
   "id": "35ea6394",
   "metadata": {
    "execution": {
     "iopub.execute_input": "2025-03-02T01:52:08.407727Z",
     "iopub.status.busy": "2025-03-02T01:52:08.407214Z",
     "iopub.status.idle": "2025-03-02T01:52:08.479150Z",
     "shell.execute_reply": "2025-03-02T01:52:08.477780Z"
    },
    "papermill": {
     "duration": 0.08443,
     "end_time": "2025-03-02T01:52:08.481148",
     "exception": false,
     "start_time": "2025-03-02T01:52:08.396718",
     "status": "completed"
    },
    "tags": []
   },
   "outputs": [
    {
     "name": "stdout",
     "output_type": "stream",
     "text": [
      "                     Feature  Chi-Square Score        p-value\n",
      "16                 ring-type       1950.610146   0.000000e+00\n",
      "7                  gill-size       1636.606833   0.000000e+00\n",
      "8                 gill-color       5957.764469   0.000000e+00\n",
      "3                    bruises       1194.277352  1.069037e-261\n",
      "6               gill-spacing        826.795274  8.061293e-182\n",
      "19                   habitat        751.309489  2.082916e-165\n",
      "17         spore-print-color        379.132729   1.922119e-84\n",
      "18                population        311.766736   9.002366e-70\n",
      "10  stalk-surface-above-ring        222.982400   2.022392e-50\n",
      "1                cap-surface        214.068544   1.779362e-48\n",
      "11  stalk-surface-below-ring        206.648180   7.398869e-47\n",
      "12    stalk-color-above-ring        119.792216   7.024638e-28\n",
      "13    stalk-color-below-ring        109.789410   1.089740e-25\n",
      "4                       odor         75.910163   2.968682e-18\n",
      "9                stalk-shape         36.594105   1.454709e-09\n",
      "15               ring-number         25.646335   4.100735e-07\n",
      "0                  cap-shape         17.508364   2.860465e-05\n",
      "2                  cap-color         11.511382   6.917135e-04\n",
      "14                veil-color          5.126826   2.355878e-02\n",
      "5            gill-attachment          3.505447   6.116734e-02\n"
     ]
    }
   ],
   "source": [
    "dfe = df.apply(LabelEncoder().fit_transform)\n",
    "\n",
    "#set target\n",
    "X = dfe.drop('class', axis = 1)\n",
    "y = dfe['class']\n",
    "\n",
    "chi, p = chi2(X, y)\n",
    "\n",
    "chi_square_result = pd.DataFrame({\"Feature\": X.columns,\n",
    "                   \"Chi-Square Score\": chi,\n",
    "                   \"p-value\": p}).sort_values(by = \"p-value\")\n",
    "print(chi_square_result)"
   ]
  },
  {
   "cell_type": "markdown",
   "id": "939780ae",
   "metadata": {
    "papermill": {
     "duration": 0.009671,
     "end_time": "2025-03-02T01:52:08.501818",
     "exception": false,
     "start_time": "2025-03-02T01:52:08.492147",
     "status": "completed"
    },
    "tags": []
   },
   "source": [
    "My initial observations are that ring-type, gill-color, and gill-size have very strong correlation with the target variable. On the other hand, veil-color and gill-attachment have significantly lower correlation.\n",
    "At first, I was going to remove certain columns with weaker correlation, but I decided against it. I realize now that removing features could be worse than keeping them, especially easy-to-see features like cap-color and cap-shape which have low correlation. Instead I will compare this feature selection with feature selection embedded in modeling techniques."
   ]
  },
  {
   "cell_type": "markdown",
   "id": "35bfc86e",
   "metadata": {
    "papermill": {
     "duration": 0.008964,
     "end_time": "2025-03-02T01:52:08.520623",
     "exception": false,
     "start_time": "2025-03-02T01:52:08.511659",
     "status": "completed"
    },
    "tags": []
   },
   "source": [
    "# Set up data for Modeling"
   ]
  },
  {
   "cell_type": "markdown",
   "id": "b73b785b",
   "metadata": {
    "papermill": {
     "duration": 0.008774,
     "end_time": "2025-03-02T01:52:08.538659",
     "exception": false,
     "start_time": "2025-03-02T01:52:08.529885",
     "status": "completed"
    },
    "tags": []
   },
   "source": [
    "Now we will encode the categorical variables for modeling. Then I will separate the data into training and testing sets for modeling. I will stick with an %80 %20 split."
   ]
  },
  {
   "cell_type": "code",
   "execution_count": 10,
   "id": "22352f84",
   "metadata": {
    "execution": {
     "iopub.execute_input": "2025-03-02T01:52:08.559285Z",
     "iopub.status.busy": "2025-03-02T01:52:08.558785Z",
     "iopub.status.idle": "2025-03-02T01:52:08.619440Z",
     "shell.execute_reply": "2025-03-02T01:52:08.618368Z"
    },
    "papermill": {
     "duration": 0.073971,
     "end_time": "2025-03-02T01:52:08.621934",
     "exception": false,
     "start_time": "2025-03-02T01:52:08.547963",
     "status": "completed"
    },
    "tags": []
   },
   "outputs": [],
   "source": [
    "label_encoders = {}\n",
    "for column in df.columns:\n",
    "    le = LabelEncoder()\n",
    "    df[column] = le.fit_transform(df[column])\n",
    "    label_encoders[column] = le\n",
    "\n",
    "X = df.drop(columns = [\"class\"])\n",
    "y = df[\"class\"]\n",
    "\n",
    "X_train, X_test, y_train, y_test = train_test_split(X, y, test_size=0.2, random_state=24)"
   ]
  },
  {
   "cell_type": "markdown",
   "id": "478120fb",
   "metadata": {
    "papermill": {
     "duration": 0.009122,
     "end_time": "2025-03-02T01:52:08.640614",
     "exception": false,
     "start_time": "2025-03-02T01:52:08.631492",
     "status": "completed"
    },
    "tags": []
   },
   "source": [
    "The first model I wish to view is a Random Forest Classifier. I chose this model because it is very effective for simple classification for one target categorical variable."
   ]
  },
  {
   "cell_type": "code",
   "execution_count": 11,
   "id": "38387124",
   "metadata": {
    "execution": {
     "iopub.execute_input": "2025-03-02T01:52:08.660535Z",
     "iopub.status.busy": "2025-03-02T01:52:08.660058Z",
     "iopub.status.idle": "2025-03-02T01:52:09.310553Z",
     "shell.execute_reply": "2025-03-02T01:52:09.309176Z"
    },
    "papermill": {
     "duration": 0.662711,
     "end_time": "2025-03-02T01:52:09.312620",
     "exception": false,
     "start_time": "2025-03-02T01:52:08.649909",
     "status": "completed"
    },
    "tags": []
   },
   "outputs": [
    {
     "data": {
      "text/html": [
       "<style>#sk-container-id-1 {color: black;background-color: white;}#sk-container-id-1 pre{padding: 0;}#sk-container-id-1 div.sk-toggleable {background-color: white;}#sk-container-id-1 label.sk-toggleable__label {cursor: pointer;display: block;width: 100%;margin-bottom: 0;padding: 0.3em;box-sizing: border-box;text-align: center;}#sk-container-id-1 label.sk-toggleable__label-arrow:before {content: \"▸\";float: left;margin-right: 0.25em;color: #696969;}#sk-container-id-1 label.sk-toggleable__label-arrow:hover:before {color: black;}#sk-container-id-1 div.sk-estimator:hover label.sk-toggleable__label-arrow:before {color: black;}#sk-container-id-1 div.sk-toggleable__content {max-height: 0;max-width: 0;overflow: hidden;text-align: left;background-color: #f0f8ff;}#sk-container-id-1 div.sk-toggleable__content pre {margin: 0.2em;color: black;border-radius: 0.25em;background-color: #f0f8ff;}#sk-container-id-1 input.sk-toggleable__control:checked~div.sk-toggleable__content {max-height: 200px;max-width: 100%;overflow: auto;}#sk-container-id-1 input.sk-toggleable__control:checked~label.sk-toggleable__label-arrow:before {content: \"▾\";}#sk-container-id-1 div.sk-estimator input.sk-toggleable__control:checked~label.sk-toggleable__label {background-color: #d4ebff;}#sk-container-id-1 div.sk-label input.sk-toggleable__control:checked~label.sk-toggleable__label {background-color: #d4ebff;}#sk-container-id-1 input.sk-hidden--visually {border: 0;clip: rect(1px 1px 1px 1px);clip: rect(1px, 1px, 1px, 1px);height: 1px;margin: -1px;overflow: hidden;padding: 0;position: absolute;width: 1px;}#sk-container-id-1 div.sk-estimator {font-family: monospace;background-color: #f0f8ff;border: 1px dotted black;border-radius: 0.25em;box-sizing: border-box;margin-bottom: 0.5em;}#sk-container-id-1 div.sk-estimator:hover {background-color: #d4ebff;}#sk-container-id-1 div.sk-parallel-item::after {content: \"\";width: 100%;border-bottom: 1px solid gray;flex-grow: 1;}#sk-container-id-1 div.sk-label:hover label.sk-toggleable__label {background-color: #d4ebff;}#sk-container-id-1 div.sk-serial::before {content: \"\";position: absolute;border-left: 1px solid gray;box-sizing: border-box;top: 0;bottom: 0;left: 50%;z-index: 0;}#sk-container-id-1 div.sk-serial {display: flex;flex-direction: column;align-items: center;background-color: white;padding-right: 0.2em;padding-left: 0.2em;position: relative;}#sk-container-id-1 div.sk-item {position: relative;z-index: 1;}#sk-container-id-1 div.sk-parallel {display: flex;align-items: stretch;justify-content: center;background-color: white;position: relative;}#sk-container-id-1 div.sk-item::before, #sk-container-id-1 div.sk-parallel-item::before {content: \"\";position: absolute;border-left: 1px solid gray;box-sizing: border-box;top: 0;bottom: 0;left: 50%;z-index: -1;}#sk-container-id-1 div.sk-parallel-item {display: flex;flex-direction: column;z-index: 1;position: relative;background-color: white;}#sk-container-id-1 div.sk-parallel-item:first-child::after {align-self: flex-end;width: 50%;}#sk-container-id-1 div.sk-parallel-item:last-child::after {align-self: flex-start;width: 50%;}#sk-container-id-1 div.sk-parallel-item:only-child::after {width: 0;}#sk-container-id-1 div.sk-dashed-wrapped {border: 1px dashed gray;margin: 0 0.4em 0.5em 0.4em;box-sizing: border-box;padding-bottom: 0.4em;background-color: white;}#sk-container-id-1 div.sk-label label {font-family: monospace;font-weight: bold;display: inline-block;line-height: 1.2em;}#sk-container-id-1 div.sk-label-container {text-align: center;}#sk-container-id-1 div.sk-container {/* jupyter's `normalize.less` sets `[hidden] { display: none; }` but bootstrap.min.css set `[hidden] { display: none !important; }` so we also need the `!important` here to be able to override the default hidden behavior on the sphinx rendered scikit-learn.org. See: https://github.com/scikit-learn/scikit-learn/issues/21755 */display: inline-block !important;position: relative;}#sk-container-id-1 div.sk-text-repr-fallback {display: none;}</style><div id=\"sk-container-id-1\" class=\"sk-top-container\"><div class=\"sk-text-repr-fallback\"><pre>RandomForestClassifier(max_depth=5, random_state=24)</pre><b>In a Jupyter environment, please rerun this cell to show the HTML representation or trust the notebook. <br />On GitHub, the HTML representation is unable to render, please try loading this page with nbviewer.org.</b></div><div class=\"sk-container\" hidden><div class=\"sk-item\"><div class=\"sk-estimator sk-toggleable\"><input class=\"sk-toggleable__control sk-hidden--visually\" id=\"sk-estimator-id-1\" type=\"checkbox\" checked><label for=\"sk-estimator-id-1\" class=\"sk-toggleable__label sk-toggleable__label-arrow\">RandomForestClassifier</label><div class=\"sk-toggleable__content\"><pre>RandomForestClassifier(max_depth=5, random_state=24)</pre></div></div></div></div></div>"
      ],
      "text/plain": [
       "RandomForestClassifier(max_depth=5, random_state=24)"
      ]
     },
     "execution_count": 11,
     "metadata": {},
     "output_type": "execute_result"
    }
   ],
   "source": [
    "from sklearn.ensemble import RandomForestClassifier\n",
    "\n",
    "rtree = RandomForestClassifier(n_estimators = 100, max_depth=5, random_state = 24)\n",
    "rtree.fit(X_train, y_train)"
   ]
  },
  {
   "cell_type": "markdown",
   "id": "532c87e6",
   "metadata": {
    "papermill": {
     "duration": 0.009067,
     "end_time": "2025-03-02T01:52:09.331606",
     "exception": false,
     "start_time": "2025-03-02T01:52:09.322539",
     "status": "completed"
    },
    "tags": []
   },
   "source": [
    "I will evaluate each model based on accuracy score and classification report."
   ]
  },
  {
   "cell_type": "code",
   "execution_count": 12,
   "id": "436c8534",
   "metadata": {
    "execution": {
     "iopub.execute_input": "2025-03-02T01:52:09.352060Z",
     "iopub.status.busy": "2025-03-02T01:52:09.351557Z",
     "iopub.status.idle": "2025-03-02T01:52:09.393226Z",
     "shell.execute_reply": "2025-03-02T01:52:09.391798Z"
    },
    "papermill": {
     "duration": 0.053964,
     "end_time": "2025-03-02T01:52:09.395151",
     "exception": false,
     "start_time": "2025-03-02T01:52:09.341187",
     "status": "completed"
    },
    "tags": []
   },
   "outputs": [
    {
     "name": "stdout",
     "output_type": "stream",
     "text": [
      "Model Accuracy:\n",
      " 0.9932307692307693\n",
      "Classification Report:\n",
      "               precision    recall  f1-score   support\n",
      "\n",
      "           0       0.99      1.00      0.99       869\n",
      "           1       1.00      0.99      0.99       756\n",
      "\n",
      "    accuracy                           0.99      1625\n",
      "   macro avg       0.99      0.99      0.99      1625\n",
      "weighted avg       0.99      0.99      0.99      1625\n",
      "\n",
      "Confusion Matrix:\n",
      " [[869   0]\n",
      " [ 11 745]]\n"
     ]
    }
   ],
   "source": [
    "from sklearn.metrics import accuracy_score, classification_report, confusion_matrix\n",
    "\n",
    "#Predictions\n",
    "y_pred = rtree.predict(X_test)\n",
    "\n",
    "#Evaluate Model\n",
    "accuracy = accuracy_score(y_test, y_pred)\n",
    "print(\"Model Accuracy:\\n\", accuracy)\n",
    "print(\"Classification Report:\\n\", classification_report(y_test, y_pred))\n",
    "print(\"Confusion Matrix:\\n\", confusion_matrix(y_test, y_pred))"
   ]
  },
  {
   "cell_type": "markdown",
   "id": "5ee9dc02",
   "metadata": {
    "papermill": {
     "duration": 0.009452,
     "end_time": "2025-03-02T01:52:09.414511",
     "exception": false,
     "start_time": "2025-03-02T01:52:09.405059",
     "status": "completed"
    },
    "tags": []
   },
   "source": [
    "Let's incorporate feature selection to the model and create a bar graph to see the most important features as chosen by the Random Forest Classifier"
   ]
  },
  {
   "cell_type": "code",
   "execution_count": 13,
   "id": "1a321012",
   "metadata": {
    "execution": {
     "iopub.execute_input": "2025-03-02T01:52:09.436208Z",
     "iopub.status.busy": "2025-03-02T01:52:09.435792Z",
     "iopub.status.idle": "2025-03-02T01:52:09.817312Z",
     "shell.execute_reply": "2025-03-02T01:52:09.816190Z"
    },
    "papermill": {
     "duration": 0.394933,
     "end_time": "2025-03-02T01:52:09.819563",
     "exception": false,
     "start_time": "2025-03-02T01:52:09.424630",
     "status": "completed"
    },
    "tags": []
   },
   "outputs": [
    {
     "name": "stdout",
     "output_type": "stream",
     "text": [
      "                     Feature  Importance\n",
      "4                       odor    0.158026\n",
      "7                  gill-size    0.154156\n",
      "8                 gill-color    0.132698\n",
      "17         spore-print-color    0.090550\n",
      "16                 ring-type    0.077537\n",
      "10  stalk-surface-above-ring    0.070990\n",
      "11  stalk-surface-below-ring    0.063531\n",
      "18                population    0.056547\n",
      "6               gill-spacing    0.052785\n",
      "3                    bruises    0.035735\n",
      "12    stalk-color-above-ring    0.019487\n",
      "19                   habitat    0.019373\n",
      "9                stalk-shape    0.017827\n",
      "13    stalk-color-below-ring    0.015421\n",
      "2                  cap-color    0.011668\n",
      "15               ring-number    0.008697\n",
      "1                cap-surface    0.006759\n",
      "0                  cap-shape    0.003258\n",
      "5            gill-attachment    0.002544\n",
      "14                veil-color    0.002410\n"
     ]
    },
    {
     "data": {
      "image/png": "[encoded data removed]",
      "text/plain": [
       "<Figure size 1000x600 with 1 Axes>"
      ]
     },
     "metadata": {},
     "output_type": "display_data"
    }
   ],
   "source": [
    "rf_feature_importance_df = pd.DataFrame({'Feature': X_train.columns, 'Importance': rtree.feature_importances_})\n",
    "rf_feature_importance_df = rf_feature_importance_df.sort_values(by=\"Importance\", ascending=False)\n",
    "\n",
    "print(rf_feature_importance_df)\n",
    "\n",
    "plt.figure(figsize=(10,6))\n",
    "sns.barplot(x='Importance', y='Feature', data=rf_feature_importance_df, palette=\"viridis\")\n",
    "plt.xlabel(\"Feature Importance\")\n",
    "plt.ylabel(\"Features\")\n",
    "plt.title(\"Random Forest Feature Importance\")\n",
    "plt.show()"
   ]
  },
  {
   "cell_type": "markdown",
   "id": "422d15dd",
   "metadata": {
    "papermill": {
     "duration": 0.010678,
     "end_time": "2025-03-02T01:52:09.841363",
     "exception": false,
     "start_time": "2025-03-02T01:52:09.830685",
     "status": "completed"
    },
    "tags": []
   },
   "source": [
    "The model accuracy seems incredibly high. To verify that my model is generalizing well, I will perform cross validation."
   ]
  },
  {
   "cell_type": "code",
   "execution_count": 14,
   "id": "ec807a48",
   "metadata": {
    "execution": {
     "iopub.execute_input": "2025-03-02T01:52:09.864795Z",
     "iopub.status.busy": "2025-03-02T01:52:09.864378Z",
     "iopub.status.idle": "2025-03-02T01:52:11.371366Z",
     "shell.execute_reply": "2025-03-02T01:52:11.369875Z"
    },
    "papermill": {
     "duration": 1.521011,
     "end_time": "2025-03-02T01:52:11.373266",
     "exception": false,
     "start_time": "2025-03-02T01:52:09.852255",
     "status": "completed"
    },
    "tags": []
   },
   "outputs": [
    {
     "name": "stdout",
     "output_type": "stream",
     "text": [
      "Cross-validation accuracy: 0.9904605909871499\n"
     ]
    }
   ],
   "source": [
    "from sklearn.model_selection import cross_val_score\n",
    "\n",
    "cv_scores = cross_val_score(rtree, X_train, y_train, cv=5, scoring='accuracy')\n",
    "print(\"Cross-validation accuracy:\", cv_scores.mean())"
   ]
  },
  {
   "cell_type": "markdown",
   "id": "46d5e5e4",
   "metadata": {
    "papermill": {
     "duration": 0.01064,
     "end_time": "2025-03-02T01:52:11.395230",
     "exception": false,
     "start_time": "2025-03-02T01:52:11.384590",
     "status": "completed"
    },
    "tags": []
   },
   "source": [
    "I chose XGBoost Classifier as the second model to classify mushrooms. I will also perform feature selection and graph the result to compare to other feature selection methods."
   ]
  },
  {
   "cell_type": "code",
   "execution_count": 15,
   "id": "5868e205",
   "metadata": {
    "execution": {
     "iopub.execute_input": "2025-03-02T01:52:11.418661Z",
     "iopub.status.busy": "2025-03-02T01:52:11.418221Z",
     "iopub.status.idle": "2025-03-02T01:52:11.561753Z",
     "shell.execute_reply": "2025-03-02T01:52:11.558501Z"
    },
    "papermill": {
     "duration": 0.157682,
     "end_time": "2025-03-02T01:52:11.563955",
     "exception": false,
     "start_time": "2025-03-02T01:52:11.406273",
     "status": "completed"
    },
    "tags": []
   },
   "outputs": [
    {
     "data": {
      "text/html": [
       "<style>#sk-container-id-2 {color: black;background-color: white;}#sk-container-id-2 pre{padding: 0;}#sk-container-id-2 div.sk-toggleable {background-color: white;}#sk-container-id-2 label.sk-toggleable__label {cursor: pointer;display: block;width: 100%;margin-bottom: 0;padding: 0.3em;box-sizing: border-box;text-align: center;}#sk-container-id-2 label.sk-toggleable__label-arrow:before {content: \"▸\";float: left;margin-right: 0.25em;color: #696969;}#sk-container-id-2 label.sk-toggleable__label-arrow:hover:before {color: black;}#sk-container-id-2 div.sk-estimator:hover label.sk-toggleable__label-arrow:before {color: black;}#sk-container-id-2 div.sk-toggleable__content {max-height: 0;max-width: 0;overflow: hidden;text-align: left;background-color: #f0f8ff;}#sk-container-id-2 div.sk-toggleable__content pre {margin: 0.2em;color: black;border-radius: 0.25em;background-color: #f0f8ff;}#sk-container-id-2 input.sk-toggleable__control:checked~div.sk-toggleable__content {max-height: 200px;max-width: 100%;overflow: auto;}#sk-container-id-2 input.sk-toggleable__control:checked~label.sk-toggleable__label-arrow:before {content: \"▾\";}#sk-container-id-2 div.sk-estimator input.sk-toggleable__control:checked~label.sk-toggleable__label {background-color: #d4ebff;}#sk-container-id-2 div.sk-label input.sk-toggleable__control:checked~label.sk-toggleable__label {background-color: #d4ebff;}#sk-container-id-2 input.sk-hidden--visually {border: 0;clip: rect(1px 1px 1px 1px);clip: rect(1px, 1px, 1px, 1px);height: 1px;margin: -1px;overflow: hidden;padding: 0;position: absolute;width: 1px;}#sk-container-id-2 div.sk-estimator {font-family: monospace;background-color: #f0f8ff;border: 1px dotted black;border-radius: 0.25em;box-sizing: border-box;margin-bottom: 0.5em;}#sk-container-id-2 div.sk-estimator:hover {background-color: #d4ebff;}#sk-container-id-2 div.sk-parallel-item::after {content: \"\";width: 100%;border-bottom: 1px solid gray;flex-grow: 1;}#sk-container-id-2 div.sk-label:hover label.sk-toggleable__label {background-color: #d4ebff;}#sk-container-id-2 div.sk-serial::before {content: \"\";position: absolute;border-left: 1px solid gray;box-sizing: border-box;top: 0;bottom: 0;left: 50%;z-index: 0;}#sk-container-id-2 div.sk-serial {display: flex;flex-direction: column;align-items: center;background-color: white;padding-right: 0.2em;padding-left: 0.2em;position: relative;}#sk-container-id-2 div.sk-item {position: relative;z-index: 1;}#sk-container-id-2 div.sk-parallel {display: flex;align-items: stretch;justify-content: center;background-color: white;position: relative;}#sk-container-id-2 div.sk-item::before, #sk-container-id-2 div.sk-parallel-item::before {content: \"\";position: absolute;border-left: 1px solid gray;box-sizing: border-box;top: 0;bottom: 0;left: 50%;z-index: -1;}#sk-container-id-2 div.sk-parallel-item {display: flex;flex-direction: column;z-index: 1;position: relative;background-color: white;}#sk-container-id-2 div.sk-parallel-item:first-child::after {align-self: flex-end;width: 50%;}#sk-container-id-2 div.sk-parallel-item:last-child::after {align-self: flex-start;width: 50%;}#sk-container-id-2 div.sk-parallel-item:only-child::after {width: 0;}#sk-container-id-2 div.sk-dashed-wrapped {border: 1px dashed gray;margin: 0 0.4em 0.5em 0.4em;box-sizing: border-box;padding-bottom: 0.4em;background-color: white;}#sk-container-id-2 div.sk-label label {font-family: monospace;font-weight: bold;display: inline-block;line-height: 1.2em;}#sk-container-id-2 div.sk-label-container {text-align: center;}#sk-container-id-2 div.sk-container {/* jupyter's `normalize.less` sets `[hidden] { display: none; }` but bootstrap.min.css set `[hidden] { display: none !important; }` so we also need the `!important` here to be able to override the default hidden behavior on the sphinx rendered scikit-learn.org. See: https://github.com/scikit-learn/scikit-learn/issues/21755 */display: inline-block !important;position: relative;}#sk-container-id-2 div.sk-text-repr-fallback {display: none;}</style><div id=\"sk-container-id-2\" class=\"sk-top-container\"><div class=\"sk-text-repr-fallback\"><pre>XGBClassifier(base_score=None, booster=None, callbacks=None,\n",
       "              colsample_bylevel=None, colsample_bynode=None,\n",
       "              colsample_bytree=None, device=None, early_stopping_rounds=None,\n",
       "              enable_categorical=False, eval_metric=&#x27;mlogloss&#x27;,\n",
       "              feature_types=None, gamma=None, grow_policy=None,\n",
       "              importance_type=None, interaction_constraints=None,\n",
       "              learning_rate=0.1, max_bin=None, max_cat_threshold=None,\n",
       "              max_cat_to_onehot=None, max_delta_step=None, max_depth=5,\n",
       "              max_leaves=None, min_child_weight=None, missing=nan,\n",
       "              monotone_constraints=None, multi_strategy=None, n_estimators=100,\n",
       "              n_jobs=None, num_parallel_tree=None, random_state=24, ...)</pre><b>In a Jupyter environment, please rerun this cell to show the HTML representation or trust the notebook. <br />On GitHub, the HTML representation is unable to render, please try loading this page with nbviewer.org.</b></div><div class=\"sk-container\" hidden><div class=\"sk-item\"><div class=\"sk-estimator sk-toggleable\"><input class=\"sk-toggleable__control sk-hidden--visually\" id=\"sk-estimator-id-2\" type=\"checkbox\" checked><label for=\"sk-estimator-id-2\" class=\"sk-toggleable__label sk-toggleable__label-arrow\">XGBClassifier</label><div class=\"sk-toggleable__content\"><pre>XGBClassifier(base_score=None, booster=None, callbacks=None,\n",
       "              colsample_bylevel=None, colsample_bynode=None,\n",
       "              colsample_bytree=None, device=None, early_stopping_rounds=None,\n",
       "              enable_categorical=False, eval_metric=&#x27;mlogloss&#x27;,\n",
       "              feature_types=None, gamma=None, grow_policy=None,\n",
       "              importance_type=None, interaction_constraints=None,\n",
       "              learning_rate=0.1, max_bin=None, max_cat_threshold=None,\n",
       "              max_cat_to_onehot=None, max_delta_step=None, max_depth=5,\n",
       "              max_leaves=None, min_child_weight=None, missing=nan,\n",
       "              monotone_constraints=None, multi_strategy=None, n_estimators=100,\n",
       "              n_jobs=None, num_parallel_tree=None, random_state=24, ...)</pre></div></div></div></div></div>"
      ],
      "text/plain": [
       "XGBClassifier(base_score=None, booster=None, callbacks=None,\n",
       "              colsample_bylevel=None, colsample_bynode=None,\n",
       "              colsample_bytree=None, device=None, early_stopping_rounds=None,\n",
       "              enable_categorical=False, eval_metric='mlogloss',\n",
       "              feature_types=None, gamma=None, grow_policy=None,\n",
       "              importance_type=None, interaction_constraints=None,\n",
       "              learning_rate=0.1, max_bin=None, max_cat_threshold=None,\n",
       "              max_cat_to_onehot=None, max_delta_step=None, max_depth=5,\n",
       "              max_leaves=None, min_child_weight=None, missing=nan,\n",
       "              monotone_constraints=None, multi_strategy=None, n_estimators=100,\n",
       "              n_jobs=None, num_parallel_tree=None, random_state=24, ...)"
      ]
     },
     "execution_count": 15,
     "metadata": {},
     "output_type": "execute_result"
    }
   ],
   "source": [
    "xgb_c = xgb.XGBClassifier(\n",
    "    use_label_encoder=False,\n",
    "    eval_metric='mlogloss',\n",
    "    random_state=24,\n",
    "    max_depth=5,             \n",
    "    learning_rate=0.1,       \n",
    "    n_estimators=100)\n",
    "xgb_c.fit(X_train, y_train)\n",
    "\n"
   ]
  },
  {
   "cell_type": "code",
   "execution_count": 16,
   "id": "ab6e5422",
   "metadata": {
    "execution": {
     "iopub.execute_input": "2025-03-02T01:52:11.589289Z",
     "iopub.status.busy": "2025-03-02T01:52:11.588753Z",
     "iopub.status.idle": "2025-03-02T01:52:11.621361Z",
     "shell.execute_reply": "2025-03-02T01:52:11.619943Z"
    },
    "papermill": {
     "duration": 0.046966,
     "end_time": "2025-03-02T01:52:11.623430",
     "exception": false,
     "start_time": "2025-03-02T01:52:11.576464",
     "status": "completed"
    },
    "tags": []
   },
   "outputs": [
    {
     "name": "stdout",
     "output_type": "stream",
     "text": [
      "Model Accuracy:\n",
      " 1.0\n",
      "Classification Report:\n",
      "               precision    recall  f1-score   support\n",
      "\n",
      "           0       1.00      1.00      1.00       869\n",
      "           1       1.00      1.00      1.00       756\n",
      "\n",
      "    accuracy                           1.00      1625\n",
      "   macro avg       1.00      1.00      1.00      1625\n",
      "weighted avg       1.00      1.00      1.00      1625\n",
      "\n",
      "Confusion Matrix:\n",
      " [[869   0]\n",
      " [  0 756]]\n"
     ]
    }
   ],
   "source": [
    "y_pred = xgb_c.predict(X_test)\n",
    "\n",
    "accuracy = accuracy_score(y_test, y_pred)\n",
    "print(\"Model Accuracy:\\n\", accuracy)\n",
    "print(\"Classification Report:\\n\", classification_report(y_test, y_pred))\n",
    "print(\"Confusion Matrix:\\n\", confusion_matrix(y_test, y_pred))"
   ]
  },
  {
   "cell_type": "markdown",
   "id": "ed315635",
   "metadata": {
    "papermill": {
     "duration": 0.010873,
     "end_time": "2025-03-02T01:52:11.645975",
     "exception": false,
     "start_time": "2025-03-02T01:52:11.635102",
     "status": "completed"
    },
    "tags": []
   },
   "source": [
    "This time my model accuracy is 100%. Either there is some mistake or mushrooms are very easy to classify given the characteristic data provided. I will perform cross validation and reshuffle the labels to verify that there isn't a mistake with the model."
   ]
  },
  {
   "cell_type": "code",
   "execution_count": 17,
   "id": "d1459417",
   "metadata": {
    "execution": {
     "iopub.execute_input": "2025-03-02T01:52:11.669859Z",
     "iopub.status.busy": "2025-03-02T01:52:11.669289Z",
     "iopub.status.idle": "2025-03-02T01:52:12.124039Z",
     "shell.execute_reply": "2025-03-02T01:52:12.122874Z"
    },
    "papermill": {
     "duration": 0.469294,
     "end_time": "2025-03-02T01:52:12.126360",
     "exception": false,
     "start_time": "2025-03-02T01:52:11.657066",
     "status": "completed"
    },
    "tags": []
   },
   "outputs": [
    {
     "name": "stdout",
     "output_type": "stream",
     "text": [
      "Cross-validation Accuracy: 1.0\n"
     ]
    }
   ],
   "source": [
    "from sklearn.model_selection import cross_val_score\n",
    "\n",
    "cv_scores = cross_val_score(xgb_c, X_train, y_train, cv=5)\n",
    "print(\"Cross-validation Accuracy:\", cv_scores.mean())"
   ]
  },
  {
   "cell_type": "code",
   "execution_count": 18,
   "id": "f48ceb7a",
   "metadata": {
    "execution": {
     "iopub.execute_input": "2025-03-02T01:52:12.153738Z",
     "iopub.status.busy": "2025-03-02T01:52:12.152822Z",
     "iopub.status.idle": "2025-03-02T01:52:12.263675Z",
     "shell.execute_reply": "2025-03-02T01:52:12.261195Z"
    },
    "papermill": {
     "duration": 0.126465,
     "end_time": "2025-03-02T01:52:12.266443",
     "exception": false,
     "start_time": "2025-03-02T01:52:12.139978",
     "status": "completed"
    },
    "tags": []
   },
   "outputs": [
    {
     "name": "stdout",
     "output_type": "stream",
     "text": [
      "Accuracy after shuffling labels: 0.5175384615384615\n"
     ]
    }
   ],
   "source": [
    "y_train_shuffled = np.random.permutation(y_train)\n",
    "xgb_c.fit(X_train, y_train_shuffled)\n",
    "y_pred_shuffled = xgb_c.predict(X_test)\n",
    "\n",
    "print(\"Accuracy after shuffling labels:\", accuracy_score(y_test, y_pred_shuffled))"
   ]
  },
  {
   "cell_type": "markdown",
   "id": "98e6598d",
   "metadata": {
    "papermill": {
     "duration": 0.011133,
     "end_time": "2025-03-02T01:52:12.291941",
     "exception": false,
     "start_time": "2025-03-02T01:52:12.280808",
     "status": "completed"
    },
    "tags": []
   },
   "source": [
    "There doesn't seem to be an issue with the model overfitting. Now let us see the feature selection chosen by the XGBoost Classifier."
   ]
  },
  {
   "cell_type": "code",
   "execution_count": 19,
   "id": "044b05bd",
   "metadata": {
    "execution": {
     "iopub.execute_input": "2025-03-02T01:52:12.317399Z",
     "iopub.status.busy": "2025-03-02T01:52:12.316870Z",
     "iopub.status.idle": "2025-03-02T01:52:12.698827Z",
     "shell.execute_reply": "2025-03-02T01:52:12.697355Z"
    },
    "papermill": {
     "duration": 0.397407,
     "end_time": "2025-03-02T01:52:12.700923",
     "exception": false,
     "start_time": "2025-03-02T01:52:12.303516",
     "status": "completed"
    },
    "tags": []
   },
   "outputs": [
    {
     "name": "stdout",
     "output_type": "stream",
     "text": [
      "                     Feature  Importance\n",
      "16                 ring-type    1.955130\n",
      "3                    bruises    1.415035\n",
      "1                cap-surface    1.302510\n",
      "8                 gill-color    1.294200\n",
      "10  stalk-surface-above-ring    1.193918\n",
      "19                   habitat    1.178920\n",
      "11  stalk-surface-below-ring    1.177916\n",
      "4                       odor    1.164253\n",
      "18                population    1.151142\n",
      "13    stalk-color-below-ring    1.120446\n",
      "12    stalk-color-above-ring    1.119502\n",
      "17         spore-print-color    1.086298\n",
      "0                  cap-shape    1.065935\n",
      "2                  cap-color    0.977359\n",
      "15               ring-number    0.924760\n",
      "7                  gill-size    0.881105\n",
      "6               gill-spacing    0.796274\n",
      "9                stalk-shape    0.757356\n",
      "14                veil-color    0.515665\n",
      "5            gill-attachment    0.432758\n"
     ]
    },
    {
     "data": {
      "image/png": "[encoded data removed]",
      "text/plain": [
       "<Figure size 1000x600 with 1 Axes>"
      ]
     },
     "metadata": {},
     "output_type": "display_data"
    }
   ],
   "source": [
    "xgb_importance = xgb_c.get_booster().get_score(importance_type='gain')  \n",
    "xgb_feature_importance_df = pd.DataFrame(list(xgb_importance.items()), columns=['Feature', 'Importance'])\n",
    "xgb_feature_importance_df = xgb_feature_importance_df.sort_values(by=\"Importance\", ascending=False)\n",
    "\n",
    "print(xgb_feature_importance_df)\n",
    "# Plot for XGBoost\n",
    "plt.figure(figsize=(10, 6))\n",
    "sns.barplot(x='Importance', y='Feature', data=xgb_feature_importance_df, palette=\"viridis\")\n",
    "plt.xlabel(\"Feature Importance (Gain)\")\n",
    "plt.ylabel(\"Features\")\n",
    "plt.title(\"XGBoost Feature Importance (Gain)\")\n",
    "plt.show()"
   ]
  },
  {
   "cell_type": "markdown",
   "id": "0ecfe101",
   "metadata": {
    "papermill": {
     "duration": 0.012069,
     "end_time": "2025-03-02T01:52:12.726844",
     "exception": false,
     "start_time": "2025-03-02T01:52:12.714775",
     "status": "completed"
    },
    "tags": []
   },
   "source": [
    "# Conclusion"
   ]
  },
  {
   "cell_type": "markdown",
   "id": "81828f63",
   "metadata": {
    "papermill": {
     "duration": 0.011969,
     "end_time": "2025-03-02T01:52:12.751159",
     "exception": false,
     "start_time": "2025-03-02T01:52:12.739190",
     "status": "completed"
    },
    "tags": []
   },
   "source": [
    "In this project, I implemented and evaluated XGBoost and Random Forest Classifiers for the objective of mushroom classification. In particular, I focused on feature importance to find the most important characteristics for mushroom hunters.\n",
    "\n",
    "\n",
    "Model Performance:\n",
    "My generated models had incredibly high accuracy, so high that I thought it was a mistake. To verify my models did not have overfitting issues, I performed cross validation on both models. For the XGBoost classifier, I even reshuffled the labels to ensure the model was working properly since it had 100% accuracy. The cross validation and reshuffling indicated that the models were working as intended. My hypothesis is that the dataset is very easy to model. It seems that running models with all the characteristics included yields very easy classification.\n",
    "\n",
    "\n",
    "Feature Importance: \n",
    "One key objective was to compare feature importance rankings across the models. This could be an indicator of the most important characteristics to look out for when mushroom hunting. Below are the top 5 features chosen by each technique.\n",
    "Random Forest Classifier: (odor, gill-size, gill-color, spore-print-color, ring-type). \n",
    "XGBoost Classifier: (stalk-shape, stalk-surface-above-ring, odor, stalk-surface-below-ring, gill-size)\n",
    "Chi-Squared Analysis: (ring-type, gill-size, gill-color, bruises, gill-spacing)\n",
    "\n",
    "There are definitely similarities between the three techniques. All three include gill-size, and other gill characteristics seem important too. I am surprised that odor is not included in the Chi-Squared top 5. I attribute the differences in the top 5 with the difference in the feature selection techniques. It feels like the Chi-Squared implementation is redundant, given that models use more robust selection techniques. \n",
    "\n",
    "\n",
    "The difference between the models' importance can be attributed to the way they measure feature importance and how the models are constructed. Overall both models performed exceptionally well at classifying mushrooms, perhaps too well. With the incredible level of accuracy, the models seem redundant. It seems that classifying mushrooms is too easy with this dataset. There is a lot of room for further improvements. I believe that removing certain features would be more interesting in regards to model creation. Also, I believe comparing these feature importance lists to a correlation heatmap could bring further insight. Continuing on with the trend of mushroom classification, gathering images of mushrooms for image classification could be more effective tool for mushroom hunting at large."
   ]
  }
 ],
 "metadata": {
  "kaggle": {
   "accelerator": "none",
   "dataSources": [
    {
     "datasetId": 478,
     "sourceId": 974,
     "sourceType": "datasetVersion"
    }
   ],
   "dockerImageVersionId": 30918,
   "isGpuEnabled": false,
   "isInternetEnabled": true,
   "language": "python",
   "sourceType": "notebook"
  },
  "kernelspec": {
   "display_name": "Python 3",
   "language": "python",
   "name": "python3"
  },
  "language_info": {
   "codemirror_mode": {
    "name": "ipython",
    "version": 3
   },
   "file_extension": ".py",
   "mimetype": "text/x-python",
   "name": "python",
   "nbconvert_exporter": "python",
   "pygments_lexer": "ipython3",
   "version": "3.10.12"
  },
  "papermill": {
   "default_parameters": {},
   "duration": 13.21614,
   "end_time": "2025-03-02T01:52:13.586543",
   "environment_variables": {},
   "exception": null,
   "input_path": "__notebook__.ipynb",
   "output_path": "__notebook__.ipynb",
   "parameters": {},
   "start_time": "2025-03-02T01:52:00.370403",
   "version": "2.6.0"
  }
 },
 "nbformat": 4,
 "nbformat_minor": 5
}
